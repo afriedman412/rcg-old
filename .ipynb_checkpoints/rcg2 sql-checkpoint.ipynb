{
 "cells": [
  {
   "cell_type": "code",
   "execution_count": 1,
   "metadata": {
    "collapsed": true
   },
   "outputs": [],
   "source": [
    "import pandas as pd\n",
    "import numpy as np\n",
    "import requests\n",
    "import urllib\n",
    "import urllib3\n",
    "import certifi\n",
    "import json\n",
    "import sqlite3\n",
    "import os\n",
    "import re\n",
    "from IPython.display import clear_output\n",
    "\n",
    "from bs4 import BeautifulSoup\n",
    "import unidecode\n",
    "\n",
    "import spotipy\n",
    "from spotipy.oauth2 import SpotifyClientCredentials\n",
    "\n",
    "# prep 'http'\n",
    "http = urllib3.PoolManager(cert_reqs='CERT_REQUIRED', ca_certs=certifi.where())"
   ]
  },
  {
   "cell_type": "code",
   "execution_count": 2,
   "metadata": {
    "collapsed": true
   },
   "outputs": [],
   "source": [
    "def pnoun_test(t):\n",
    "    m_count = 0\n",
    "    f_count = 0\n",
    "    m = ['he', 'him', 'his', 'himself']\n",
    "    f = ['she', 'her', 'hers', 'herself']\n",
    "    for w in t.split():\n",
    "        if w in m: \n",
    "            m_count += 1\n",
    "        if w in f:\n",
    "            f_count += 1\n",
    "    return([m_count, f_count])"
   ]
  },
  {
   "cell_type": "code",
   "execution_count": 3,
   "metadata": {
    "collapsed": true
   },
   "outputs": [],
   "source": [
    "# returns a bio or None if none exists\n",
    "def searchy(name, group=False, test=True):\n",
    "    # remove accents\n",
    "    name = unidecode.unidecode(name)\n",
    "    \n",
    "    # execute search\n",
    "    url = f'https://www.allmusic.com/search/artists/{\"%20\".join(name.split())}'\n",
    "\n",
    "    # make request\n",
    "    r = http.request('GET', url)\n",
    "\n",
    "    # if response is good, scrape biography\n",
    "    if r.status == 200:\n",
    "        soup = BeautifulSoup(r.data, 'lxml')\n",
    "        link = soup.find('div', {'class':'name'}).find('a')['href']\n",
    "        \n",
    "        r2 = http.request('GET', (link + '/biography/'))\n",
    "        if r2.status == 200:\n",
    "            soup2 = BeautifulSoup(r2.data, 'lxml')\n",
    "            \n",
    "            # if group, pull group members instead of bio\n",
    "            if group:\n",
    "                try:\n",
    "                    members = []\n",
    "                    for m in soup2.find('div', {'class':'group-members'}).find_all('a'):\n",
    "                        members.append(m.text.strip())\n",
    "                    return members\n",
    "                \n",
    "                # return NaN if no members\n",
    "                except AttributeError:\n",
    "                    return None\n",
    "            \n",
    "            # else pull bio\n",
    "            else:\n",
    "                try:\n",
    "                    return soup2.find('div', {'itemprop':'reviewBody'}).text\n",
    "\n",
    "                # return NaN if no biography entry\n",
    "                except AttributeError:\n",
    "                    return None"
   ]
  },
  {
   "cell_type": "code",
   "execution_count": 4,
   "metadata": {
    "collapsed": true
   },
   "outputs": [],
   "source": [
    "def write_gender(name, zult):\n",
    "    try:\n",
    "        len(zult) == 2\n",
    "    except TypeError:\n",
    "        print('zult type error')\n",
    "        return\n",
    "    conn = sqlite3.connect('rcg_test.db')\n",
    "    c = conn.cursor()\n",
    "    if zult[0] > zult[1]:\n",
    "        c.execute('INSERT INTO genders VALUES (name, \"M\")')\n",
    "        conn.commit()\n",
    "    elif zult[1] > zult[0]:\n",
    "        c.execute('INSERT INTO genders VALUES (name, \"F\")')\n",
    "        conn.commit()\n",
    "    conn.close()\n",
    "    return"
   ]
  },
  {
   "cell_type": "code",
   "execution_count": 5,
   "metadata": {
    "collapsed": true
   },
   "outputs": [],
   "source": [
    "spot_id = '4263d6a900e94f1599974e3c90c28aa5'\n",
    "spot_sec = '26333e019ca149a4b8f0f1633168dddd'\n",
    "rc_url = 'http://api.spotify.com/v1/users/spotify/playlists/37i9dQZF1DX0XUsuxWHRQd'"
   ]
  },
  {
   "cell_type": "code",
   "execution_count": 6,
   "metadata": {
    "collapsed": true
   },
   "outputs": [],
   "source": [
    "client_credentials_manager = SpotifyClientCredentials(spot_id, spot_sec)\n",
    "sp = spotipy.Spotify(client_credentials_manager=client_credentials_manager)\n",
    "\n",
    "uri = 'spotify:user:spotify:playlist:37i9dQZF1DX0XUsuxWHRQd'\n",
    "username = uri.split(':')[2]\n",
    "playlist_id = uri.split(':')[4]\n",
    "\n",
    "results = sp.user_playlist(username, playlist_id)\n",
    "rc_j = json.dumps(results, indent=4)\n",
    "rc_jd = (json.loads(rc_j))"
   ]
  },
  {
   "cell_type": "code",
   "execution_count": 46,
   "metadata": {
    "collapsed": true
   },
   "outputs": [],
   "source": [
    "conn = sqlite3.connect('rcg_test.db')\n",
    "c = conn.cursor()\n",
    "week = \"this_week\"\n",
    "artist = \"Lil Skies\"\n",
    "x = (week, week, artist,)\n",
    "c.execute('UPDATE stats SET {0}= {0} + 1 WHERE name=?;'.format(week), (artist,))\n",
    "conn.commit()\n",
    "conn.close()"
   ]
  },
  {
   "cell_type": "code",
   "execution_count": 33,
   "metadata": {},
   "outputs": [
    {
     "name": "stdout",
     "output_type": "stream",
     "text": [
      "UPDATE stats SET this_week= (this_week + 1) WHERE name=?; ('Lil Skies',)\n"
     ]
    }
   ],
   "source": [
    "print('UPDATE stats SET this_week= (this_week + 1) WHERE name=?;', (artist,))"
   ]
  },
  {
   "cell_type": "code",
   "execution_count": 8,
   "metadata": {},
   "outputs": [
    {
     "ename": "ProgrammingError",
     "evalue": "Cannot operate on a closed database.",
     "output_type": "error",
     "traceback": [
      "\u001b[0;31m---------------------------------------------------------------------------\u001b[0m",
      "\u001b[0;31mProgrammingError\u001b[0m                          Traceback (most recent call last)",
      "\u001b[0;32m<ipython-input-8-1119d25ddb3e>\u001b[0m in \u001b[0;36m<module>\u001b[0;34m()\u001b[0m\n\u001b[1;32m      3\u001b[0m \u001b[0mc\u001b[0m \u001b[0;34m=\u001b[0m \u001b[0mconn\u001b[0m\u001b[0;34m.\u001b[0m\u001b[0mcursor\u001b[0m\u001b[0;34m(\u001b[0m\u001b[0;34m)\u001b[0m\u001b[0;34m\u001b[0m\u001b[0m\n\u001b[1;32m      4\u001b[0m \u001b[0;32mfor\u001b[0m \u001b[0md\u001b[0m \u001b[0;32min\u001b[0m \u001b[0;34m[\u001b[0m\u001b[0;34m'Offset'\u001b[0m\u001b[0;34m,\u001b[0m \u001b[0;34m'Quavo'\u001b[0m\u001b[0;34m,\u001b[0m \u001b[0;34m'Takeoff'\u001b[0m\u001b[0;34m,\u001b[0m \u001b[0;34m'Migos'\u001b[0m\u001b[0;34m]\u001b[0m\u001b[0;34m:\u001b[0m\u001b[0;34m\u001b[0m\u001b[0m\n\u001b[0;32m----> 5\u001b[0;31m     \u001b[0mc\u001b[0m\u001b[0;34m.\u001b[0m\u001b[0mexecute\u001b[0m\u001b[0;34m(\u001b[0m\u001b[0;34m'DELETE FROM genders WHERE name=?;'\u001b[0m\u001b[0;34m,\u001b[0m \u001b[0;34m(\u001b[0m\u001b[0md\u001b[0m\u001b[0;34m,\u001b[0m\u001b[0;34m)\u001b[0m\u001b[0;34m)\u001b[0m\u001b[0;34m\u001b[0m\u001b[0m\n\u001b[0m\u001b[1;32m      6\u001b[0m     \u001b[0mconn\u001b[0m\u001b[0;34m.\u001b[0m\u001b[0mcommit\u001b[0m\u001b[0;34m(\u001b[0m\u001b[0;34m)\u001b[0m\u001b[0;34m\u001b[0m\u001b[0m\n\u001b[1;32m      7\u001b[0m     \u001b[0mconn\u001b[0m\u001b[0;34m.\u001b[0m\u001b[0mclose\u001b[0m\u001b[0;34m(\u001b[0m\u001b[0;34m)\u001b[0m\u001b[0;34m\u001b[0m\u001b[0m\n",
      "\u001b[0;31mProgrammingError\u001b[0m: Cannot operate on a closed database."
     ]
    }
   ],
   "source": [
    "# run to erase migos entries\n",
    "conn = sqlite3.connect('rcg_test.db')\n",
    "c = conn.cursor()\n",
    "for d in ['Offset', 'Quavo', 'Takeoff', 'Migos']:\n",
    "    c.execute('DELETE FROM genders WHERE name=?;', (d,))\n",
    "    conn.commit()\n",
    "    conn.close()\n",
    "conn = sqlite3.connect('rcg_test.db')\n",
    "c = conn.cursor()\n",
    "d = 'Migos'\n",
    "c.execute('DELETE FROM groups WHERE name=?;', (d,));\n",
    "conn.commit()\n",
    "conn.close()"
   ]
  },
  {
   "cell_type": "code",
   "execution_count": 103,
   "metadata": {
    "collapsed": true
   },
   "outputs": [],
   "source": [
    "g = 'Beyoncé, Jay-Z'"
   ]
  },
  {
   "cell_type": "code",
   "execution_count": 106,
   "metadata": {},
   "outputs": [
    {
     "data": {
      "text/plain": [
       "['B']"
      ]
     },
     "execution_count": 106,
     "metadata": {},
     "output_type": "execute_result"
    }
   ],
   "source": [
    "g[0].split(', ')"
   ]
  },
  {
   "cell_type": "code",
   "execution_count": 11,
   "metadata": {
    "collapsed": true
   },
   "outputs": [],
   "source": [
    "conn = sqlite3.connect('rcg_test.db')\n",
    "c = conn.cursor()\n",
    "who = (\"robocop3\",)\n",
    "date = \"this_week\"\n",
    "c.execute(f'UPDATE stats SET {date} = ({date} + 1) WHERE name=?;', (who))\n",
    "conn.commit()\n",
    "conn.close()"
   ]
  },
  {
   "cell_type": "code",
   "execution_count": 7,
   "metadata": {
    "collapsed": true
   },
   "outputs": [],
   "source": [
    "def pull_gender_sql(artist, week='this_week', test=True):\n",
    "    print(artist)\n",
    "    q = (artist,)\n",
    "    \n",
    "    conn = sqlite3.connect('rcg_test.db')\n",
    "    c = conn.cursor()\n",
    "    \n",
    "    gen_test = c.execute('SELECT gender FROM genders WHERE name=?', q)\n",
    "    try:\n",
    "        gender = gen_test.fetchone()[0]\n",
    "    except TypeError:\n",
    "        gender = None\n",
    "    \n",
    "    gp_test = c.execute('SELECT members FROM groups WHERE name=?', q)\n",
    "    try:\n",
    "        members = gp_test.fetchone()[0]\n",
    "    except TypeError:\n",
    "        members = None\n",
    "    \n",
    "    conn.commit()\n",
    "    \n",
    "    if test:\n",
    "        print(f'gender: {gender}')\n",
    "        print(f'members: {members}')\n",
    "    \n",
    "    # check if known group, pull members and re-run\n",
    "    if members != None:\n",
    "        if test:\n",
    "            print('known group')\n",
    "        for m in (members).split(', '):\n",
    "            print(f'member: {m}')\n",
    "            conn.close()\n",
    "            pull_gender_sql(m, week=week)\n",
    "        return\n",
    "\n",
    "    # if no gender...\n",
    "    if gender not in ['M', 'F', 'missing']:\n",
    "        # check group status\n",
    "        if test:\n",
    "            print('check group status')\n",
    "        new_members = searchy(artist, group=True)\n",
    "\n",
    "        # if it's a group, add new members to database and re-run for all members\n",
    "        if new_members != None:\n",
    "            if test:\n",
    "                print('new group')\n",
    "            t = (artist, ', '.join(new_members))\n",
    "            c.execute('INSERT INTO groups VALUES (?, ?)', t)\n",
    "            conn.commit()\n",
    "            for m in new_members:\n",
    "                conn.close()\n",
    "                pull_gender_sql(m, week=week)\n",
    "            return\n",
    "\n",
    "        else:\n",
    "            # pull bio\n",
    "            bio = searchy(artist)\n",
    "\n",
    "            # if no bio, tag as None\n",
    "            if bio == None:\n",
    "                if test:\n",
    "                    print('no bio')\n",
    "                t = (artist, 'missing')\n",
    "\n",
    "            # otherwise, gender\n",
    "            else:\n",
    "                if test:\n",
    "                    print('running gender')\n",
    "                zult = pnoun_test(bio)\n",
    "\n",
    "                # if it's a tie, tag as None\n",
    "                if zult[0] == zult[1]:\n",
    "                    t = (artist, 'missing')\n",
    "\n",
    "                # otherwise score it   \n",
    "                elif zult[0] > zult[1]:\n",
    "                    print('male!')\n",
    "                    t = (artist, 'M')\n",
    "\n",
    "                elif zult[1] > zult[0]:\n",
    "                    print('female!')\n",
    "                    t = (artist, 'F')\n",
    "\n",
    "        if test:\n",
    "            print('adding gender')\n",
    "        c.execute('INSERT INTO genders VALUES (?, ?)', t)\n",
    "        conn.commit()\n",
    "        \n",
    "        if test:\n",
    "            print('updating counts')\n",
    "        t2 = (artist, 1,)\n",
    "        c.execute('INSERT INTO stats (name, {0}) VALUES (?,?)'.format(week), t2)\n",
    "        conn.close()\n",
    "        return\n",
    "    \n",
    "    # if there is gender, return it\n",
    "    else:\n",
    "        if test:\n",
    "            print('poop')\n",
    "        master_test = c.execute('SELECT name FROM stats WHERE name=?', q)\n",
    "        try:\n",
    "            gender = master_test.fetchone()[0]\n",
    "            c.execute('UPDATE stats SET {0}= {0} + 1 WHERE name=?;'.format(week), (artist,))\n",
    "        except TypeError:\n",
    "            t2 = (artist, 1,)\n",
    "            c.execute('INSERT INTO stats (name, {0}) VALUES (?,?)'.format(week), t2)\n",
    "        conn.commit()\n",
    "        conn.close()\n",
    "        return"
   ]
  },
  {
   "cell_type": "code",
   "execution_count": 15,
   "metadata": {
    "scrolled": false
   },
   "outputs": [
    {
     "ename": "OperationalError",
     "evalue": "database is locked",
     "output_type": "error",
     "traceback": [
      "\u001b[0;31m---------------------------------------------------------------------------\u001b[0m",
      "\u001b[0;31mOperationalError\u001b[0m                          Traceback (most recent call last)",
      "\u001b[0;32m<ipython-input-15-ca6734a64381>\u001b[0m in \u001b[0;36m<module>\u001b[0;34m()\u001b[0m\n\u001b[1;32m      3\u001b[0m \u001b[0mc1\u001b[0m \u001b[0;34m=\u001b[0m \u001b[0mconn1\u001b[0m\u001b[0;34m.\u001b[0m\u001b[0mcursor\u001b[0m\u001b[0;34m(\u001b[0m\u001b[0;34m)\u001b[0m\u001b[0;34m\u001b[0m\u001b[0m\n\u001b[1;32m      4\u001b[0m \u001b[0mweek\u001b[0m \u001b[0;34m=\u001b[0m \u001b[0;34m\"borp7\"\u001b[0m\u001b[0;34m\u001b[0m\u001b[0m\n\u001b[0;32m----> 5\u001b[0;31m \u001b[0mc1\u001b[0m\u001b[0;34m.\u001b[0m\u001b[0mexecute\u001b[0m\u001b[0;34m(\u001b[0m\u001b[0;34m'ALTER TABLE stats ADD COLUMN {0} INTEGER DEFAULT 0'\u001b[0m\u001b[0;34m.\u001b[0m\u001b[0mformat\u001b[0m\u001b[0;34m(\u001b[0m\u001b[0mweek\u001b[0m\u001b[0;34m)\u001b[0m\u001b[0;34m)\u001b[0m\u001b[0;34m\u001b[0m\u001b[0m\n\u001b[0m\u001b[1;32m      6\u001b[0m \u001b[0mconn1\u001b[0m\u001b[0;34m.\u001b[0m\u001b[0mcommit\u001b[0m\u001b[0;34m(\u001b[0m\u001b[0;34m)\u001b[0m\u001b[0;34m\u001b[0m\u001b[0m\n\u001b[1;32m      7\u001b[0m \u001b[0;34m\u001b[0m\u001b[0m\n",
      "\u001b[0;31mOperationalError\u001b[0m: database is locked"
     ]
    }
   ],
   "source": [
    "clear_output()\n",
    "conn1 = sqlite3.connect('rcg_test.db')\n",
    "c1 = conn1.cursor()\n",
    "week = \"borp7\"\n",
    "c1.execute('ALTER TABLE stats ADD COLUMN {0} INTEGER DEFAULT 0'.format(week))\n",
    "conn1.commit()\n",
    "\n",
    "trax = []\n",
    "for n in range(50):\n",
    "    \n",
    "    # pull artist name\n",
    "    a = rc_jd['tracks']['items'][n]['track']['artists'][0]['name']\n",
    "    \n",
    "    # collect track names for feature parsing\n",
    "    trax.append(rc_jd['tracks']['items'][n]['track']['name'])\n",
    "    \n",
    "    # process genders\n",
    "    pull_gender_sql(a, week=week)\n",
    "    \n",
    "\n",
    "# process names parsed from features\n",
    "for t in trax:\n",
    "    if 'feat.' in t:\n",
    "        feat = re.findall('(?<=feat. ).*[^)]', t)\n",
    "    elif 'ft.' in t:\n",
    "        feat = re.findall('(?<=ft. ).*[^)]', t)\n",
    "    else:\n",
    "        continue\n",
    "    for n in re.split('[,&]', feat[0]):\n",
    "        name = n.strip()\n",
    "        print(f're-running {name}')\n",
    "        pull_gender_sql(name, week=week)\n",
    "    \n",
    "### sum stats across tables\n",
    "data = c1.execute('SELECT name, {0} FROM stats WHERE {0} > 0'.format(week))\n",
    "conn1.commit()\n",
    "\n",
    "total = 0\n",
    "M_tot = 0\n",
    "F_tot = 0\n",
    "X_tot = 0\n",
    "\n",
    "for d in data.fetchall():\n",
    "    t = d[0]\n",
    "    num = d[1]\n",
    "    gen_call = c1.execute('SELECT gender FROM genders WHERE name =?', (t,))\n",
    "    gender = gen_call.fetchone()[0]\n",
    "    \n",
    "    total += num\n",
    "    \n",
    "    if gender == 'F':\n",
    "        F_tot += num\n",
    "    elif gender == 'M':\n",
    "        M_tot += num\n",
    "    else:\n",
    "        X_tot += num\n",
    "  \n",
    "conn1.close()\n",
    "print(f'male credits: {M_tot}')\n",
    "print(f'female credits: {F_tot}')\n",
    "print(f'missing credits: {X_tot}')\n",
    "print(f'total credits: {total}')"
   ]
  },
  {
   "cell_type": "code",
   "execution_count": 18,
   "metadata": {},
   "outputs": [],
   "source": [
    "c1.close()"
   ]
  },
  {
   "cell_type": "code",
   "execution_count": 24,
   "metadata": {},
   "outputs": [
    {
     "name": "stdout",
     "output_type": "stream",
     "text": [
      "male credits: 68\n",
      "female credits: 5\n",
      "total credits: 76\n"
     ]
    }
   ],
   "source": [
    "# non-SQL version\n",
    "ats = {}\n",
    "trax = []\n",
    "for n in range(50):\n",
    "    a = rc_jd['tracks']['items'][n]['track']['artists'][0]['name']\n",
    "    trax.append(rc_jd['tracks']['items'][n]['track']['name'])\n",
    "    \n",
    "    if a not in ats:\n",
    "        ats[a] = {'count':1}\n",
    "    else:\n",
    "        ats[a]['count'] += 1\n",
    "        \n",
    "for t in trax:\n",
    "    if 'feat.' in t:\n",
    "        feat = re.findall('(?<=feat. ).*[^)]', t)\n",
    "    elif 'ft.' in t:\n",
    "        feat = re.findall('(?<=ft. ).*[^)]', t)\n",
    "    else:\n",
    "        continue\n",
    "    for n in re.split('[,&]', feat[0]):\n",
    "        name = n.strip()\n",
    "        if name not in ats:\n",
    "            ats[name] = {'count':1}\n",
    "        else:\n",
    "            ats[name]['count'] += 1\n",
    "    \n",
    "group_members = False\n",
    "for name in ats.keys():\n",
    "#     print(name)\n",
    "    \n",
    "    # pull bio\n",
    "    bio = searchy(name)\n",
    "    \n",
    "    # if no bio, tag as None\n",
    "    if bio == None:\n",
    "        ats[name]['gender'] = None\n",
    "    \n",
    "    # else run pronoun test\n",
    "    else:\n",
    "        g_zult = pnoun_test(bio)\n",
    "#         print(g_zult)\n",
    "    \n",
    "        # if tied, pull members to re-run\n",
    "        if g_zult[0] == g_zult[1]:\n",
    "            members = searchy(name, group=True)\n",
    "            if not group_members:\n",
    "                group_members = []\n",
    "            for m in members:\n",
    "                group_members.append(unidecode.unidecode(m))\n",
    "            ats[name]['gender'] = None\n",
    "            continue\n",
    "         \n",
    "        # else, score and tag\n",
    "        else:\n",
    "            if g_zult[0] > g_zult[1]:\n",
    "                ats[name]['gender'] = 'M'\n",
    "            elif g_zult[1] > g_zult[0]:\n",
    "                ats[name]['gender'] = 'F'\n",
    "                \n",
    "# if group_members, re-run\n",
    "if group_members:\n",
    "    for name in group_members:\n",
    "        \n",
    "        # if already in list, just advance counter\n",
    "        if name in ats:\n",
    "            ats[name]['count'] += 1\n",
    "            \n",
    "        # else, run the whole damn gendering script\n",
    "        else:\n",
    "            # pull bio\n",
    "            bio = searchy(name)\n",
    "\n",
    "            # if no bio, tag as None\n",
    "            if bio == None:\n",
    "                ats[name]['gender'] = None\n",
    "                \n",
    "            # else run pronoun test\n",
    "            # i guess ill have to figure out if groups end up here at some point but wtv\n",
    "            else:\n",
    "                g_zult = pnoun_test(bio)\n",
    "                if g_zult[0] > g_zult[1]:\n",
    "                    ats[name] = {'count':1, 'gender':'M'}\n",
    "                elif g_zult[1] > g_zult[0]:\n",
    "                    ats[name] = {'count':1, 'gender':'F'}\n",
    "    \n",
    "# calculate stats\n",
    "total = 0\n",
    "M_tot = 0\n",
    "F_tot = 0\n",
    "for k, v in ats.items():\n",
    "    c = v['count']\n",
    "    total += c\n",
    "    if v['gender'] == 'M':\n",
    "        M_tot += c\n",
    "    elif v['gender'] == 'F':\n",
    "        F_tot += c\n",
    "    \n",
    "print(f'male credits: {M_tot}')\n",
    "print(f'female credits: {F_tot}')\n",
    "print(f'total credits: {total}')"
   ]
  },
  {
   "cell_type": "code",
   "execution_count": 85,
   "metadata": {},
   "outputs": [
    {
     "data": {
      "text/plain": [
       "['W O R K I N M E',\n",
       " 'STARGAZING',\n",
       " 'Album of the Year - Freestyle',\n",
       " 'Barbie Dreams',\n",
       " 'Kept Back (feat. Lil Pump)',\n",
       " 'Taking A Walk',\n",
       " 'L A M B T A L K',\n",
       " 'FEFE (feat. Nicki Minaj & Murda Beatz)',\n",
       " 'Nonstop',\n",
       " 'Mo Bamba',\n",
       " 'SICKO MODE',\n",
       " 'SWISH',\n",
       " 'Chun Swae (feat. Swae Lee)',\n",
       " 'In My Feelings',\n",
       " 'CAROUSEL',\n",
       " 'Moonlight',\n",
       " 'Pull Up (feat. NAV)',\n",
       " 'Shake It Up',\n",
       " 'Praise The Lord (Da Shine)',\n",
       " 'Leave Me Alone',\n",
       " 'Hopeless Romantic (feat. Swae Lee)',\n",
       " 'Big Bank feat. 2 Chainz, Big Sean, Nicki Minaj',\n",
       " 'Taste (feat. Offset)',\n",
       " 'Wasted (feat. Lil Uzi Vert)',\n",
       " 'Leave Me',\n",
       " 'Fr Fr (feat. Lil Skies)',\n",
       " 'Yes Indeed',\n",
       " 'Nephew (feat. Lil Pump)',\n",
       " 'BULLETPROOF',\n",
       " 'I Might Need Security',\n",
       " 'Mob Ties',\n",
       " 'Ned Flanders (feat. A$AP Ferg)',\n",
       " 'Talk To Me (with Rich The Kid)',\n",
       " 'Champion (feat. Travis Scott)',\n",
       " 'Lost It (feat. Quavo & Offset)',\n",
       " 'SAD!',\n",
       " 'Lucid Dreams',\n",
       " 'Life Goes On',\n",
       " 'I Know You (feat. Yung Pinch)',\n",
       " 'GHOST',\n",
       " 'Millidelphia (feat. Swizz Beatz)',\n",
       " 'WIN',\n",
       " 'APESHIT',\n",
       " '2 Seater (feat. Quavo & 21 Savage)',\n",
       " 'Who Want The Smoke?',\n",
       " 'Shoota (feat. Lil Uzi Vert)',\n",
       " 'Bigger Than You (feat. Drake & Quavo)',\n",
       " 'WIFI LIT',\n",
       " 'All Mine',\n",
       " 'Hot Summer']"
      ]
     },
     "execution_count": 85,
     "metadata": {},
     "output_type": "execute_result"
    }
   ],
   "source": [
    "trax"
   ]
  },
  {
   "cell_type": "code",
   "execution_count": 25,
   "metadata": {
    "collapsed": true
   },
   "outputs": [],
   "source": [
    "x = [5, 7]"
   ]
  },
  {
   "cell_type": "code",
   "execution_count": 26,
   "metadata": {},
   "outputs": [
    {
     "data": {
      "text/plain": [
       "['M']"
      ]
     },
     "execution_count": 26,
     "metadata": {},
     "output_type": "execute_result"
    }
   ],
   "source": [
    "['M' if x[1]>x[0] else 'F']"
   ]
  },
  {
   "cell_type": "code",
   "execution_count": null,
   "metadata": {
    "collapsed": true
   },
   "outputs": [],
   "source": []
  }
 ],
 "metadata": {
  "kernelspec": {
   "display_name": "Python [conda env:anaconda3]",
   "language": "python",
   "name": "conda-env-anaconda3-py"
  },
  "language_info": {
   "codemirror_mode": {
    "name": "ipython",
    "version": 3
   },
   "file_extension": ".py",
   "mimetype": "text/x-python",
   "name": "python",
   "nbconvert_exporter": "python",
   "pygments_lexer": "ipython3",
   "version": "3.6.3"
  }
 },
 "nbformat": 4,
 "nbformat_minor": 2
}
