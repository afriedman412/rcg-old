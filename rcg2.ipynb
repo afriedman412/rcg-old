{
 "cells": [
  {
   "cell_type": "code",
   "execution_count": 1,
   "metadata": {
    "collapsed": true
   },
   "outputs": [],
   "source": [
    "import pandas as pd\n",
    "import numpy as np\n",
    "import requests\n",
    "import urllib\n",
    "import urllib3\n",
    "import certifi\n",
    "import json\n",
    "import sqlite3\n",
    "import os\n",
    "import re\n",
    "\n",
    "from bs4 import BeautifulSoup\n",
    "import unidecode\n",
    "\n",
    "import spotipy\n",
    "from spotipy.oauth2 import SpotifyClientCredentials\n",
    "\n",
    "# prep 'http'\n",
    "http = urllib3.PoolManager(cert_reqs='CERT_REQUIRED', ca_certs=certifi.where())\n"
   ]
  },
  {
   "cell_type": "code",
   "execution_count": 2,
   "metadata": {
    "collapsed": true
   },
   "outputs": [],
   "source": [
    "spot_id = '4263d6a900e94f1599974e3c90c28aa5'\n",
    "spot_sec = '26333e019ca149a4b8f0f1633168dddd'\n",
    "rc_url = 'http://api.spotify.com/v1/users/spotify/playlists/37i9dQZF1DX0XUsuxWHRQd'"
   ]
  },
  {
   "cell_type": "code",
   "execution_count": 3,
   "metadata": {
    "collapsed": true
   },
   "outputs": [],
   "source": [
    "def pnoun_test(t):\n",
    "    m_count = 0\n",
    "    f_count = 0\n",
    "    m = ['he', 'him', 'his', 'himself']\n",
    "    f = ['she', 'her', 'hers', 'herself']\n",
    "    for w in t.split():\n",
    "        if w in m: \n",
    "            m_count += 1\n",
    "        if w in f:\n",
    "            f_count += 1\n",
    "    return([m_count, f_count])"
   ]
  },
  {
   "cell_type": "code",
   "execution_count": 4,
   "metadata": {
    "collapsed": true
   },
   "outputs": [],
   "source": [
    "# returns a bio or NaN if none exists\n",
    "def searchy(name, group=False):\n",
    "    # execute search\n",
    "    url = f'https://www.allmusic.com/search/artists/{\"%20\".join(name.split())}'\n",
    "\n",
    "    # make request\n",
    "    r = http.request('GET', url)\n",
    "\n",
    "    # if response is good, scrape biography\n",
    "    if r.status == 200:\n",
    "        soup = BeautifulSoup(r.data, 'lxml')\n",
    "        link = soup.find('div', {'class':'name'}).find('a')['href']\n",
    "        \n",
    "        r2 = http.request('GET', (link + '/biography/'))\n",
    "        if r2.status == 200:\n",
    "            soup2 = BeautifulSoup(r2.data, 'lxml')\n",
    "            \n",
    "            # if group, pull group members instead of bio\n",
    "            if group:\n",
    "                try:\n",
    "                    members = []\n",
    "                    for m in soup2.find('div', {'class':'group-members'}).find_all('a'):\n",
    "                        members.append(m.text.strip())\n",
    "                    return members\n",
    "                \n",
    "                # return NaN if no members\n",
    "                except AttributeError:\n",
    "                    return None\n",
    "            \n",
    "            # else pull bio\n",
    "            else:\n",
    "                try:\n",
    "                    return soup2.find('div', {'itemprop':'reviewBody'}).text\n",
    "\n",
    "                # return NaN if no biography entry\n",
    "                except AttributeError:\n",
    "                    return None"
   ]
  },
  {
   "cell_type": "code",
   "execution_count": 5,
   "metadata": {
    "collapsed": true
   },
   "outputs": [],
   "source": [
    "import json\n",
    "\n",
    "client_credentials_manager = SpotifyClientCredentials(spot_id, spot_sec)\n",
    "sp = spotipy.Spotify(client_credentials_manager=client_credentials_manager)\n",
    "\n",
    "uri = 'spotify:user:spotify:playlist:37i9dQZF1DX0XUsuxWHRQd'\n",
    "username = uri.split(':')[2]\n",
    "playlist_id = uri.split(':')[4]\n",
    "\n",
    "results = sp.user_playlist(username, playlist_id)\n",
    "rc_j = json.dumps(results, indent=4)\n",
    "rc_jd = (json.loads(rc_j))"
   ]
  },
  {
   "cell_type": "code",
   "execution_count": 31,
   "metadata": {
    "scrolled": false
   },
   "outputs": [
    {
     "name": "stdout",
     "output_type": "stream",
     "text": [
      "male credits: 68\n",
      "female credits: 5\n",
      "total credits: 76\n"
     ]
    }
   ],
   "source": [
    "# non-SQL version\n",
    "ats = {}\n",
    "trax = []\n",
    "for n in range(50):\n",
    "    a = rc_jd['tracks']['items'][n]['track']['artists'][0]['name']\n",
    "    trax.append(rc_jd['tracks']['items'][n]['track']['name'])\n",
    "    \n",
    "    if a not in ats:\n",
    "        ats[a] = {'count':1}\n",
    "    else:\n",
    "        ats[a]['count'] += 1\n",
    "        \n",
    "for t in trax:\n",
    "    if 'feat.' in t:\n",
    "        feat = re.findall('(?<=feat. ).*[^)]', t)\n",
    "    elif 'ft.' in t:\n",
    "        feat = re.findall('(?<=ft. ).*[^)]', t)\n",
    "    else:\n",
    "        continue\n",
    "    for n in re.split('[,&]', feat[0]):\n",
    "        name = n.strip()\n",
    "        if name not in ats:\n",
    "            ats[name] = {'count':1}\n",
    "        else:\n",
    "            ats[name]['count'] += 1\n",
    "    \n",
    "group_members = False\n",
    "for name in ats.keys():\n",
    "#     print(name)\n",
    "    \n",
    "    # pull bio\n",
    "    bio = searchy(name)\n",
    "    \n",
    "    # if no bio, tag as None\n",
    "    if bio == None:\n",
    "        ats[name]['gender'] = None\n",
    "    \n",
    "    # else run pronoun test\n",
    "    else:\n",
    "        g_zult = pnoun_test(bio)\n",
    "#         print(g_zult)\n",
    "    \n",
    "        # if tied, pull members to re-run\n",
    "        if g_zult[0] == g_zult[1]:\n",
    "            members = searchy(name, group=True)\n",
    "            if not group_members:\n",
    "                group_members = []\n",
    "            for m in members:\n",
    "                group_members.append(unidecode.unidecode(m))\n",
    "            ats[name]['gender'] = None\n",
    "            continue\n",
    "         \n",
    "        # else, score and tag\n",
    "        else:\n",
    "            if g_zult[0] > g_zult[1]:\n",
    "                ats[name]['gender'] = 'M'\n",
    "            elif g_zult[1] > g_zult[0]:\n",
    "                ats[name]['gender'] = 'F'\n",
    "                \n",
    "# if group_members, re-run\n",
    "if group_members:\n",
    "    for name in group_members:\n",
    "        \n",
    "        # if already in list, just advance counter\n",
    "        if name in ats:\n",
    "            ats[name]['count'] += 1\n",
    "            \n",
    "        # else, run the whole damn gendering script\n",
    "        else:\n",
    "            # pull bio\n",
    "            bio = searchy(name)\n",
    "\n",
    "            # if no bio, tag as None\n",
    "            if bio == None:\n",
    "                ats[name]['gender'] = None\n",
    "                \n",
    "            # else run pronoun test\n",
    "            # i guess ill have to figure out if groups end up here at some point but wtv\n",
    "            else:\n",
    "                g_zult = pnoun_test(bio)\n",
    "                if g_zult[0] > g_zult[1]:\n",
    "                    ats[name] = {'count':1, 'gender':'M'}\n",
    "                elif g_zult[1] > g_zult[0]:\n",
    "                    ats[name] = {'count':1, 'gender':'F'}\n",
    "    \n",
    "# calculate stats\n",
    "total = 0\n",
    "M_tot = 0\n",
    "F_tot = 0\n",
    "for k, v in ats.items():\n",
    "    c = v['count']\n",
    "    total += c\n",
    "    if v['gender'] == 'M':\n",
    "        M_tot += c\n",
    "    elif v['gender'] == 'F':\n",
    "        F_tot += c\n",
    "    \n",
    "print(f'male credits: {M_tot}')\n",
    "print(f'female credits: {F_tot}')\n",
    "print(f'total credits: {total}')"
   ]
  },
  {
   "cell_type": "code",
   "execution_count": 33,
   "metadata": {
    "collapsed": true
   },
   "outputs": [
    {
     "data": {
      "text/plain": [
       "['W O R K I N M E',\n",
       " 'STARGAZING',\n",
       " 'Album of the Year - Freestyle',\n",
       " 'Barbie Dreams',\n",
       " 'Kept Back (feat. Lil Pump)',\n",
       " 'Taking A Walk',\n",
       " 'L A M B T A L K',\n",
       " 'FEFE (feat. Nicki Minaj & Murda Beatz)',\n",
       " 'Nonstop',\n",
       " 'Mo Bamba',\n",
       " 'SICKO MODE',\n",
       " 'SWISH',\n",
       " 'Chun Swae (feat. Swae Lee)',\n",
       " 'In My Feelings',\n",
       " 'CAROUSEL',\n",
       " 'Moonlight',\n",
       " 'Pull Up (feat. NAV)',\n",
       " 'Shake It Up',\n",
       " 'Praise The Lord (Da Shine)',\n",
       " 'Leave Me Alone',\n",
       " 'Hopeless Romantic (feat. Swae Lee)',\n",
       " 'Big Bank feat. 2 Chainz, Big Sean, Nicki Minaj',\n",
       " 'Taste (feat. Offset)',\n",
       " 'Wasted (feat. Lil Uzi Vert)',\n",
       " 'Leave Me',\n",
       " 'Fr Fr (feat. Lil Skies)',\n",
       " 'Yes Indeed',\n",
       " 'Nephew (feat. Lil Pump)',\n",
       " 'BULLETPROOF',\n",
       " 'I Might Need Security',\n",
       " 'Mob Ties',\n",
       " 'Ned Flanders (feat. A$AP Ferg)',\n",
       " 'Talk To Me (with Rich The Kid)',\n",
       " 'Champion (feat. Travis Scott)',\n",
       " 'Lost It (feat. Quavo & Offset)',\n",
       " 'SAD!',\n",
       " 'Lucid Dreams',\n",
       " 'Life Goes On',\n",
       " 'I Know You (feat. Yung Pinch)',\n",
       " 'GHOST',\n",
       " 'Millidelphia (feat. Swizz Beatz)',\n",
       " 'WIN',\n",
       " 'APESHIT',\n",
       " '2 Seater (feat. Quavo & 21 Savage)',\n",
       " 'Who Want The Smoke?',\n",
       " 'Shoota (feat. Lil Uzi Vert)',\n",
       " 'Bigger Than You (feat. Drake & Quavo)',\n",
       " 'WIFI LIT',\n",
       " 'All Mine',\n",
       " 'Hot Summer']"
      ]
     },
     "execution_count": 33,
     "metadata": {},
     "output_type": "execute_result"
    }
   ],
   "source": [
    "trax"
   ]
  },
  {
   "cell_type": "code",
   "execution_count": 79,
   "metadata": {},
   "outputs": [],
   "source": [
    "conn = sqlite3.connect('rcg_test.db')\n",
    "c = conn.cursor()\n",
    "a = \"Migos\"\n",
    "b = \"The Carters\"\n",
    "d = \"Lil Pump\""
   ]
  },
  {
   "cell_type": "code",
   "execution_count": 66,
   "metadata": {},
   "outputs": [
    {
     "data": {
      "text/plain": [
       "'Beyoncé, Jay-Z'"
      ]
     },
     "execution_count": 66,
     "metadata": {},
     "output_type": "execute_result"
    }
   ],
   "source": [
    "qa.fetchone()[0]"
   ]
  },
  {
   "cell_type": "code",
   "execution_count": 56,
   "metadata": {
    "scrolled": true
   },
   "outputs": [
    {
     "data": {
      "text/plain": [
       "True"
      ]
     },
     "execution_count": 56,
     "metadata": {},
     "output_type": "execute_result"
    }
   ],
   "source": [
    "c.fetchone() == None"
   ]
  },
  {
   "cell_type": "code",
   "execution_count": 84,
   "metadata": {},
   "outputs": [],
   "source": [
    "qc = c.execute('SELECT gender FROM genders WHERE name=?', (d,))"
   ]
  },
  {
   "cell_type": "code",
   "execution_count": 85,
   "metadata": {},
   "outputs": [
    {
     "data": {
      "text/plain": [
       "'M'"
      ]
     },
     "execution_count": 85,
     "metadata": {},
     "output_type": "execute_result"
    }
   ],
   "source": [
    "qc.fetchone()[0]"
   ]
  },
  {
   "cell_type": "code",
   "execution_count": 90,
   "metadata": {
    "collapsed": true
   },
   "outputs": [],
   "source": [
    "qc2 = c.execute('SELECT members FROM groups WHERE name=?', (d,))"
   ]
  },
  {
   "cell_type": "code",
   "execution_count": 8,
   "metadata": {},
   "outputs": [
    {
     "ename": "AttributeError",
     "evalue": "module 'sqlite3' has no attribute 'connections'",
     "output_type": "error",
     "traceback": [
      "\u001b[0;31m---------------------------------------------------------------------------\u001b[0m",
      "\u001b[0;31mAttributeError\u001b[0m                            Traceback (most recent call last)",
      "\u001b[0;32m<ipython-input-8-95e4923a696d>\u001b[0m in \u001b[0;36m<module>\u001b[0;34m()\u001b[0m\n\u001b[0;32m----> 1\u001b[0;31m \u001b[0msqlite3\u001b[0m\u001b[0;34m.\u001b[0m\u001b[0mconnections\u001b[0m\u001b[0;34m.\u001b[0m\u001b[0mclose_all\u001b[0m\u001b[0;34m(\u001b[0m\u001b[0;34m)\u001b[0m\u001b[0;34m\u001b[0m\u001b[0m\n\u001b[0m",
      "\u001b[0;31mAttributeError\u001b[0m: module 'sqlite3' has no attribute 'connections'"
     ]
    }
   ],
   "source": [
    "sqlite3.connections.close_all()"
   ]
  },
  {
   "cell_type": "code",
   "execution_count": 9,
   "metadata": {},
   "outputs": [
    {
     "ename": "OperationalError",
     "evalue": "database is locked",
     "output_type": "error",
     "traceback": [
      "\u001b[0;31m---------------------------------------------------------------------------\u001b[0m",
      "\u001b[0;31mOperationalError\u001b[0m                          Traceback (most recent call last)",
      "\u001b[0;32m<ipython-input-9-071aa860ec7e>\u001b[0m in \u001b[0;36m<module>\u001b[0;34m()\u001b[0m\n\u001b[1;32m      1\u001b[0m \u001b[0mconn\u001b[0m \u001b[0;34m=\u001b[0m \u001b[0msqlite3\u001b[0m\u001b[0;34m.\u001b[0m\u001b[0mconnect\u001b[0m\u001b[0;34m(\u001b[0m\u001b[0;34m'rcg_test.db'\u001b[0m\u001b[0;34m)\u001b[0m\u001b[0;34m\u001b[0m\u001b[0m\n\u001b[1;32m      2\u001b[0m \u001b[0mc\u001b[0m \u001b[0;34m=\u001b[0m \u001b[0mconn\u001b[0m\u001b[0;34m.\u001b[0m\u001b[0mcursor\u001b[0m\u001b[0;34m(\u001b[0m\u001b[0;34m)\u001b[0m\u001b[0;34m\u001b[0m\u001b[0m\n\u001b[0;32m----> 3\u001b[0;31m \u001b[0mc\u001b[0m\u001b[0;34m.\u001b[0m\u001b[0mexecute\u001b[0m\u001b[0;34m(\u001b[0m\u001b[0;34m'INSERT INTO genders (name, gender) VALUES (\"Nicki Minaj\", \"F\")'\u001b[0m\u001b[0;34m)\u001b[0m\u001b[0;34m\u001b[0m\u001b[0m\n\u001b[0m\u001b[1;32m      4\u001b[0m \u001b[0mconn\u001b[0m\u001b[0;34m.\u001b[0m\u001b[0mclose\u001b[0m\u001b[0;34m(\u001b[0m\u001b[0;34m)\u001b[0m\u001b[0;34m\u001b[0m\u001b[0m\n",
      "\u001b[0;31mOperationalError\u001b[0m: database is locked"
     ]
    }
   ],
   "source": [
    "conn = sqlite3.connect('rcg_test.db')\n",
    "c = conn.cursor()\n",
    "c.execute('INSERT INTO genders (name, gender) VALUES (\"Nicki Minaj\", \"F\")')\n",
    "conn.close()"
   ]
  },
  {
   "cell_type": "code",
   "execution_count": null,
   "metadata": {
    "collapsed": true
   },
   "outputs": [],
   "source": [
    "# SQL version CHECK DATA FIRST\n",
    "ats = {}\n",
    "trax = []\n",
    "\n",
    "conn = sqlite3.connect('rcg_test.db')\n",
    "c = conn.cursor()\n",
    "\n",
    "# add data for new artists\n",
    "for n in range(50):\n",
    "    a = rc_jd['tracks']['items'][n]['track']['artists'][0]['name']\n",
    "    \n",
    "    # query for new entry and for group status\n",
    "    q = (a,)\n",
    "    gen_test = c.execute('SELECT gender FROM genders WHERE name=?', q)\n",
    "    gp_test = c.execute('SELECT members FROM groups WHERE name=?', q)\n",
    "    \n",
    "    gender = gen_test.fetchone()\n",
    "    members = gp_test.fetchone()\n",
    "    \n",
    "    ### come back and redo this with \"EXISTS\"\n",
    "    # if name isnt in gender table ...\n",
    "    if gender == None:\n",
    "        \n",
    "        # pull bio\n",
    "        bio = searchy(name)\n",
    "        \n",
    "        # if no bio, tag as None\n",
    "        if bio == None:\n",
    "            \n",
    "        \n",
    "        \n",
    "        \n",
    "        # and if name isnt in groups table ...\n",
    "        if members == None:\n",
    "            \n",
    "            # check for group status\n",
    "            \n",
    "    \n",
    "    \n",
    "    \n",
    "    \n",
    "    trax.append(rc_jd['tracks']['items'][n]['track']['name'])\n",
    "    \n",
    "    q = (a,)\n",
    "    c.execute('SELECT members FROM groups WHERE name=?', q)\n",
    "    if c.fetchone() != None:\n",
    "        a = c.fetchone()[0].split()\n",
    "    else:\n",
    "        a = [a]\n",
    "        \n",
    "    for m in a:\n",
    "        if a not in ats:\n",
    "            ats[a] = {'count':1}\n",
    "        else:\n",
    "            ats[a]['count'] += 1\n",
    "        \n",
    "    \n",
    "\n",
    "        \n",
    "for t in trax:\n",
    "    if 'feat.' in t:\n",
    "        feat = re.findall('(?<=feat. ).*[^)]', t)\n",
    "    elif 'ft.' in t:\n",
    "        feat = re.findall('(?<=ft. ).*[^)]', t)\n",
    "    else:\n",
    "        continue\n",
    "    for n in re.split('[,&]', feat[0]):\n",
    "        name = n.strip()\n",
    "        if name not in ats:\n",
    "            ats[name] = {'count':1}\n",
    "        else:\n",
    "            ats[name]['count'] += 1\n",
    "    \n",
    "group_members = False\n",
    "for name in ats.keys():\n",
    "#     print(name)\n",
    "    \n",
    "    # pull bio\n",
    "    bio = searchy(name)\n",
    "    \n",
    "    # if no bio, tag as None\n",
    "    if bio == None:\n",
    "        ats[name]['gender'] = None\n",
    "    \n",
    "    # else run pronoun test\n",
    "    else:\n",
    "        g_zult = pnoun_test(bio)\n",
    "#         print(g_zult)\n",
    "    \n",
    "        # if tied, pull members to re-run\n",
    "        if g_zult[0] == g_zult[1]:\n",
    "            members = searchy(name, group=True)\n",
    "            if not group_members:\n",
    "                group_members = []\n",
    "            for m in members:\n",
    "                group_members.append(unidecode.unidecode(m))\n",
    "            ats[name]['gender'] = None\n",
    "            continue\n",
    "         \n",
    "        # else, score and tag\n",
    "        else:\n",
    "            if g_zult[0] > g_zult[1]:\n",
    "                ats[name]['gender'] = 'M'\n",
    "            elif g_zult[1] > g_zult[0]:\n",
    "                ats[name]['gender'] = 'F'\n",
    "                \n",
    "# if group_members, re-run\n",
    "if group_members:\n",
    "    for name in group_members:\n",
    "        \n",
    "        # if already in list, just advance counter\n",
    "        if name in ats:\n",
    "            ats[name]['count'] += 1\n",
    "            \n",
    "        # else, run the whole damn gendering script\n",
    "        else:\n",
    "            # pull bio\n",
    "            bio = searchy(name)\n",
    "\n",
    "            # if no bio, tag as None\n",
    "            if bio == None:\n",
    "                ats[name]['gender'] = None\n",
    "                \n",
    "            # else run pronoun test\n",
    "            # i guess ill have to figure out if groups end up here at some point but wtv\n",
    "            else:\n",
    "                g_zult = pnoun_test(bio)\n",
    "                if g_zult[0] > g_zult[1]:\n",
    "                    ats[name] = {'count':1, 'gender':'M'}\n",
    "                elif g_zult[1] > g_zult[0]:\n",
    "                    ats[name] = {'count':1, 'gender':'F'}\n",
    "    \n",
    "# calculate stats\n",
    "total = 0\n",
    "M_tot = 0\n",
    "F_tot = 0\n",
    "for k, v in ats.items():\n",
    "    c = v['count']\n",
    "    total += c\n",
    "    if v['gender'] == 'M':\n",
    "        M_tot += c\n",
    "    elif v['gender'] == 'F':\n",
    "        F_tot += c\n",
    "    \n",
    "print(f'male credits: {M_tot}')\n",
    "print(f'female credits: {F_tot}')\n",
    "print(f'total credits: {total}')"
   ]
  },
  {
   "cell_type": "code",
   "execution_count": 45,
   "metadata": {},
   "outputs": [
    {
     "ename": "OperationalError",
     "evalue": "no such table: groups",
     "output_type": "error",
     "traceback": [
      "\u001b[0;31m---------------------------------------------------------------------------\u001b[0m",
      "\u001b[0;31mOperationalError\u001b[0m                          Traceback (most recent call last)",
      "\u001b[0;32m<ipython-input-45-bb56f919f3ef>\u001b[0m in \u001b[0;36m<module>\u001b[0;34m()\u001b[0m\n\u001b[1;32m     11\u001b[0m \u001b[0;34m\u001b[0m\u001b[0m\n\u001b[1;32m     12\u001b[0m     \u001b[0mq\u001b[0m \u001b[0;34m=\u001b[0m \u001b[0;34m(\u001b[0m\u001b[0ma\u001b[0m\u001b[0;34m,\u001b[0m\u001b[0;34m)\u001b[0m\u001b[0;34m\u001b[0m\u001b[0m\n\u001b[0;32m---> 13\u001b[0;31m     \u001b[0mc\u001b[0m\u001b[0;34m.\u001b[0m\u001b[0mexecute\u001b[0m\u001b[0;34m(\u001b[0m\u001b[0;34m'SELECT members FROM groups WHERE name=?'\u001b[0m\u001b[0;34m,\u001b[0m \u001b[0mq\u001b[0m\u001b[0;34m)\u001b[0m\u001b[0;34m\u001b[0m\u001b[0m\n\u001b[0m\u001b[1;32m     14\u001b[0m \u001b[0;34m\u001b[0m\u001b[0m\n\u001b[1;32m     15\u001b[0m     \u001b[0;32mif\u001b[0m \u001b[0ma\u001b[0m \u001b[0;32mnot\u001b[0m \u001b[0;32min\u001b[0m \u001b[0mats\u001b[0m\u001b[0;34m:\u001b[0m\u001b[0;34m\u001b[0m\u001b[0m\n",
      "\u001b[0;31mOperationalError\u001b[0m: no such table: groups"
     ]
    }
   ],
   "source": [
    "# SQL version TAKE 1\n",
    "ats = {}\n",
    "trax = []\n",
    "\n",
    "conn = sqlite3.connect('rgb_test.db')\n",
    "c = conn.cursor()\n",
    "\n",
    "for n in range(50):\n",
    "    a = rc_jd['tracks']['items'][n]['track']['artists'][0]['name']\n",
    "    trax.append(rc_jd['tracks']['items'][n]['track']['name'])\n",
    "    \n",
    "    q = (a,)\n",
    "    c.execute('SELECT members FROM groups WHERE name=?', q)\n",
    "    if c.fetchone() != None:\n",
    "        a = c.fetchone()[0].split()\n",
    "    else:\n",
    "        a = [a]\n",
    "        \n",
    "    for m in a:\n",
    "        if a not in ats:\n",
    "            ats[a] = {'count':1}\n",
    "        else:\n",
    "            ats[a]['count'] += 1\n",
    "        \n",
    "    \n",
    "\n",
    "        \n",
    "for t in trax:\n",
    "    if 'feat.' in t:\n",
    "        feat = re.findall('(?<=feat. ).*[^)]', t)\n",
    "    elif 'ft.' in t:\n",
    "        feat = re.findall('(?<=ft. ).*[^)]', t)\n",
    "    else:\n",
    "        continue\n",
    "    for n in re.split('[,&]', feat[0]):\n",
    "        name = n.strip()\n",
    "        if name not in ats:\n",
    "            ats[name] = {'count':1}\n",
    "        else:\n",
    "            ats[name]['count'] += 1\n",
    "    \n",
    "group_members = False\n",
    "for name in ats.keys():\n",
    "#     print(name)\n",
    "    \n",
    "    # pull bio\n",
    "    bio = searchy(name)\n",
    "    \n",
    "    # if no bio, tag as None\n",
    "    if bio == None:\n",
    "        ats[name]['gender'] = None\n",
    "    \n",
    "    # else run pronoun test\n",
    "    else:\n",
    "        g_zult = pnoun_test(bio)\n",
    "#         print(g_zult)\n",
    "    \n",
    "        # if tied, pull members to re-run\n",
    "        if g_zult[0] == g_zult[1]:\n",
    "            members = searchy(name, group=True)\n",
    "            if not group_members:\n",
    "                group_members = []\n",
    "            for m in members:\n",
    "                group_members.append(unidecode.unidecode(m))\n",
    "            ats[name]['gender'] = None\n",
    "            continue\n",
    "         \n",
    "        # else, score and tag\n",
    "        else:\n",
    "            if g_zult[0] > g_zult[1]:\n",
    "                ats[name]['gender'] = 'M'\n",
    "            elif g_zult[1] > g_zult[0]:\n",
    "                ats[name]['gender'] = 'F'\n",
    "                \n",
    "# if group_members, re-run\n",
    "if group_members:\n",
    "    for name in group_members:\n",
    "        \n",
    "        # if already in list, just advance counter\n",
    "        if name in ats:\n",
    "            ats[name]['count'] += 1\n",
    "            \n",
    "        # else, run the whole damn gendering script\n",
    "        else:\n",
    "            # pull bio\n",
    "            bio = searchy(name)\n",
    "\n",
    "            # if no bio, tag as None\n",
    "            if bio == None:\n",
    "                ats[name]['gender'] = None\n",
    "                \n",
    "            # else run pronoun test\n",
    "            # i guess ill have to figure out if groups end up here at some point but wtv\n",
    "            else:\n",
    "                g_zult = pnoun_test(bio)\n",
    "                if g_zult[0] > g_zult[1]:\n",
    "                    ats[name] = {'count':1, 'gender':'M'}\n",
    "                elif g_zult[1] > g_zult[0]:\n",
    "                    ats[name] = {'count':1, 'gender':'F'}\n",
    "    \n",
    "# calculate stats\n",
    "total = 0\n",
    "M_tot = 0\n",
    "F_tot = 0\n",
    "for k, v in ats.items():\n",
    "    c = v['count']\n",
    "    total += c\n",
    "    if v['gender'] == 'M':\n",
    "        M_tot += c\n",
    "    elif v['gender'] == 'F':\n",
    "        F_tot += c\n",
    "    \n",
    "print(f'male credits: {M_tot}')\n",
    "print(f'female credits: {F_tot}')\n",
    "print(f'total credits: {total}')"
   ]
  },
  {
   "cell_type": "code",
   "execution_count": 9,
   "metadata": {},
   "outputs": [
    {
     "name": "stdout",
     "output_type": "stream",
     "text": [
      "Requirement already satisfied: configparser in /anaconda3/lib/python3.6/site-packages (3.5.0)\r\n"
     ]
    }
   ],
   "source": [
    "!pip install configparser"
   ]
  },
  {
   "cell_type": "code",
   "execution_count": 24,
   "metadata": {},
   "outputs": [],
   "source": [
    "import sqlite3\n",
    "import MySQLdb\n",
    "\n",
    "host = 'rcg.skinnyfriedman.com'\n",
    "db_user = 'rcg_test'\n",
    "db_password = 'bMbLMLJ6'\n",
    "db_name = 'rcg_test'"
   ]
  },
  {
   "cell_type": "code",
   "execution_count": 26,
   "metadata": {
    "collapsed": true
   },
   "outputs": [
    {
     "ename": "OperationalError",
     "evalue": "(2003, \"Can't connect to MySQL server on 'rcg.skinnyfriedman.com' (60)\")",
     "output_type": "error",
     "traceback": [
      "\u001b[0;31m---------------------------------------------------------------------------\u001b[0m",
      "\u001b[0;31mOperationalError\u001b[0m                          Traceback (most recent call last)",
      "\u001b[0;32m<ipython-input-26-f6bc3af7560c>\u001b[0m in \u001b[0;36m<module>\u001b[0;34m()\u001b[0m\n\u001b[0;32m----> 1\u001b[0;31m \u001b[0mconnection\u001b[0m \u001b[0;34m=\u001b[0m \u001b[0mMySQLdb\u001b[0m\u001b[0;34m.\u001b[0m\u001b[0mconnect\u001b[0m\u001b[0;34m(\u001b[0m\u001b[0mhost\u001b[0m\u001b[0;34m=\u001b[0m\u001b[0mhost\u001b[0m\u001b[0;34m,\u001b[0m \u001b[0muser\u001b[0m\u001b[0;34m=\u001b[0m\u001b[0mdb_user\u001b[0m\u001b[0;34m,\u001b[0m \u001b[0mpasswd\u001b[0m\u001b[0;34m=\u001b[0m\u001b[0mdb_password\u001b[0m\u001b[0;34m,\u001b[0m \u001b[0mdb\u001b[0m\u001b[0;34m=\u001b[0m\u001b[0mdb_name\u001b[0m\u001b[0;34m,\u001b[0m \u001b[0mport\u001b[0m\u001b[0;34m=\u001b[0m\u001b[0;36m8886\u001b[0m\u001b[0;34m)\u001b[0m\u001b[0;34m\u001b[0m\u001b[0m\n\u001b[0m",
      "\u001b[0;32m/anaconda3/lib/python3.6/site-packages/MySQLdb/__init__.py\u001b[0m in \u001b[0;36mConnect\u001b[0;34m(*args, **kwargs)\u001b[0m\n\u001b[1;32m     83\u001b[0m     \u001b[0;34m\"\"\"Factory function for connections.Connection.\"\"\"\u001b[0m\u001b[0;34m\u001b[0m\u001b[0m\n\u001b[1;32m     84\u001b[0m     \u001b[0;32mfrom\u001b[0m \u001b[0mMySQLdb\u001b[0m\u001b[0;34m.\u001b[0m\u001b[0mconnections\u001b[0m \u001b[0;32mimport\u001b[0m \u001b[0mConnection\u001b[0m\u001b[0;34m\u001b[0m\u001b[0m\n\u001b[0;32m---> 85\u001b[0;31m     \u001b[0;32mreturn\u001b[0m \u001b[0mConnection\u001b[0m\u001b[0;34m(\u001b[0m\u001b[0;34m*\u001b[0m\u001b[0margs\u001b[0m\u001b[0;34m,\u001b[0m \u001b[0;34m**\u001b[0m\u001b[0mkwargs\u001b[0m\u001b[0;34m)\u001b[0m\u001b[0;34m\u001b[0m\u001b[0m\n\u001b[0m\u001b[1;32m     86\u001b[0m \u001b[0;34m\u001b[0m\u001b[0m\n\u001b[1;32m     87\u001b[0m \u001b[0mconnect\u001b[0m \u001b[0;34m=\u001b[0m \u001b[0mConnection\u001b[0m \u001b[0;34m=\u001b[0m \u001b[0mConnect\u001b[0m\u001b[0;34m\u001b[0m\u001b[0m\n",
      "\u001b[0;32m/anaconda3/lib/python3.6/site-packages/MySQLdb/connections.py\u001b[0m in \u001b[0;36m__init__\u001b[0;34m(self, *args, **kwargs)\u001b[0m\n\u001b[1;32m    202\u001b[0m         \u001b[0mself\u001b[0m\u001b[0;34m.\u001b[0m\u001b[0mwaiter\u001b[0m \u001b[0;34m=\u001b[0m \u001b[0mkwargs2\u001b[0m\u001b[0;34m.\u001b[0m\u001b[0mpop\u001b[0m\u001b[0;34m(\u001b[0m\u001b[0;34m'waiter'\u001b[0m\u001b[0;34m,\u001b[0m \u001b[0;32mNone\u001b[0m\u001b[0;34m)\u001b[0m\u001b[0;34m\u001b[0m\u001b[0m\n\u001b[1;32m    203\u001b[0m \u001b[0;34m\u001b[0m\u001b[0m\n\u001b[0;32m--> 204\u001b[0;31m         \u001b[0msuper\u001b[0m\u001b[0;34m(\u001b[0m\u001b[0mConnection\u001b[0m\u001b[0;34m,\u001b[0m \u001b[0mself\u001b[0m\u001b[0;34m)\u001b[0m\u001b[0;34m.\u001b[0m\u001b[0m__init__\u001b[0m\u001b[0;34m(\u001b[0m\u001b[0;34m*\u001b[0m\u001b[0margs\u001b[0m\u001b[0;34m,\u001b[0m \u001b[0;34m**\u001b[0m\u001b[0mkwargs2\u001b[0m\u001b[0;34m)\u001b[0m\u001b[0;34m\u001b[0m\u001b[0m\n\u001b[0m\u001b[1;32m    205\u001b[0m         \u001b[0mself\u001b[0m\u001b[0;34m.\u001b[0m\u001b[0mcursorclass\u001b[0m \u001b[0;34m=\u001b[0m \u001b[0mcursorclass\u001b[0m\u001b[0;34m\u001b[0m\u001b[0m\n\u001b[1;32m    206\u001b[0m         self.encoders = dict([ (k, v) for k, v in conv.items()\n",
      "\u001b[0;31mOperationalError\u001b[0m: (2003, \"Can't connect to MySQL server on 'rcg.skinnyfriedman.com' (60)\")"
     ]
    }
   ],
   "source": [
    "connection = MySQLdb.connect(host=host, user=db_user, passwd=db_password, db=db_name, port=8886)"
   ]
  },
  {
   "cell_type": "code",
   "execution_count": 30,
   "metadata": {},
   "outputs": [],
   "source": [
    "connection = sqlite3.connect('rgb_test.db')"
   ]
  },
  {
   "cell_type": "code",
   "execution_count": null,
   "metadata": {
    "collapsed": true
   },
   "outputs": [],
   "source": []
  },
  {
   "cell_type": "code",
   "execution_count": 323,
   "metadata": {
    "collapsed": true
   },
   "outputs": [],
   "source": [
    "import tweepy"
   ]
  },
  {
   "cell_type": "code",
   "execution_count": 327,
   "metadata": {},
   "outputs": [
    {
     "name": "stdout",
     "output_type": "stream",
     "text": [
      "RT @SeanMcElwee: This bullshit is an incredibly expensive PR campaign orchestrated by billionaires to solidify a far right court that will…\n",
      "RT @1khustles: HOTBOYBAR - ZIPPER FT. LIL BEAU (OFFICIL VIDEO) https://t.co/ayBETcD9vp via @YouTube\n",
      "RT @AkiyoshiKitaoka: A demo of lightness perception https://t.co/BSVpgcuIw1\n",
      "The Inland Printer, February 1895. Cover by Will Bradley. https://t.co/TmmM6c0wT2\n",
      "RT @1khustles: Zipper out now @hotboybar @_LORDGURU 🎰💰🌍🛰🛫👽 https://t.co/IlbTUcRIou\n",
      "This completely normal officer raped 45 women and killed 12 of them\n",
      "\n",
      "https://t.co/LtgguKZIN4\n",
      "US pure album sales: @thundercat, Drunk 34,000 (total).\n",
      "RT @KyleNaughtonJr: Issa &amp; Daniel had the most teeth per capita in relationship history.\n",
      "The Inland Printer, April 1916. https://t.co/2gTKVuUoVX\n",
      "Our parents have not failed us, our politicians have. \n",
      "\n",
      "To any parent reading this: save us, vote, work on politica… https://t.co/cuV3e14eWf\n",
      "RT @wphillips49: Today we all --journalists and everyday citizens of goodwill-- need to remember that the people who matter most in this ar…\n",
      "yo so just how bad were dude’s original kicks for this to be the better option 😂😂😂 https://t.co/PHunjT5s8f\n",
      "Same department, different guy. Normal.\n",
      "\n",
      "https://t.co/mRqETxY1Xl\n",
      "RT @Papapishu: Woody has always been a cop but this is fucked up. https://t.co/SXAJLrqoAY\n",
      "This rapist is totally normal\n",
      "\n",
      "https://t.co/lrZLIOg5v1\n",
      "This totally normal officer re-raped a rape victim\n",
      "\n",
      "https://t.co/IToI6JTn3p\n",
      "Hey, @elonmusk https://t.co/fKQ7uU6wM1\n",
      "RT @YiddishStories: On this day in 1952 leading members of the Soviet Yiddish community were ordered by Josef Stalin to be executed. Their…\n",
      "There are two kinds of people: people who stand up and try to force their way into the airplane aisle after the pla… https://t.co/XU6vLwutSO\n",
      "RT @mtgworth: @talkhoops Some folks on /r/surfing were talking about this like “how long you think the hold down is for a wave like that?”…\n"
     ]
    }
   ],
   "source": [
    "consumer_key = 'u8jtUDOxwueEVGLifTnRODip6'\n",
    "consumer_secret = 'fVAnG7HsU8ueQEjgkzByjqujkr4o1QxRHMs3sVbzysMmB4Xlvw'\n",
    "access_token = '16603524-RGfQhQHSxqdRFsADqVXopbg0M6aS7a5U0mOP37UVt'\n",
    "access_token_secret = 'feYeKZc9Vb5FcIEC2DZsBBOnfqnxVIYbrO7roldpLZEsq'\n",
    "\n",
    "auth = tweepy.OAuthHandler(consumer_key, consumer_secret)\n",
    "auth.set_access_token(access_token, access_token_secret)\n",
    "\n",
    "api = tweepy.API(auth)\n",
    "\n",
    "public_tweets = api.home_timeline()\n",
    "for tweet in public_tweets:\n",
    "    print(tweet.text)"
   ]
  },
  {
   "cell_type": "code",
   "execution_count": 328,
   "metadata": {
    "collapsed": true
   },
   "outputs": [],
   "source": [
    "user = api.get_user('skinny412')"
   ]
  },
  {
   "cell_type": "code",
   "execution_count": 330,
   "metadata": {},
   "outputs": [
    {
     "name": "stdout",
     "output_type": "stream",
     "text": [
      "skinny412\n",
      "4061\n",
      "steeltippeddove\n",
      "Callietrees\n",
      "PicturesFoIder\n",
      "TransitCenter\n",
      "kennybeats\n",
      "70sAdultTitles\n",
      "djtara\n",
      "DJGigante812\n",
      "nataliemorales\n",
      "1followernodad\n",
      "LateNightSeth\n",
      "NoFauxCyrillic\n",
      "RegChapmanJr\n",
      "TheoLandsman\n",
      "wybmf\n",
      "nocontxtmulaney\n",
      "J__Velasquez\n",
      "itsmejmg\n",
      "ami_vet\n",
      "00ara00\n"
     ]
    }
   ],
   "source": [
    "print(user.screen_name)\n",
    "print(user.followers_count)\n",
    "for friend in user.friends():\n",
    "   print(friend.screen_name)"
   ]
  },
  {
   "cell_type": "code",
   "execution_count": 353,
   "metadata": {},
   "outputs": [
    {
     "ename": "RuntimeError",
     "evalue": "Working outside of request context.\n\nThis typically means that you attempted to use functionality that needed\nan active HTTP request.  Consult the documentation on testing for\ninformation about how to avoid this problem.",
     "output_type": "error",
     "traceback": [
      "\u001b[0;31m---------------------------------------------------------------------------\u001b[0m",
      "\u001b[0;31mRuntimeError\u001b[0m                              Traceback (most recent call last)",
      "\u001b[0;32m<ipython-input-353-d3678029f9f2>\u001b[0m in \u001b[0;36m<module>\u001b[0;34m()\u001b[0m\n\u001b[1;32m      2\u001b[0m \u001b[0;31m# first...\u001b[0m\u001b[0;34m\u001b[0m\u001b[0;34m\u001b[0m\u001b[0m\n\u001b[1;32m      3\u001b[0m \u001b[0mauth\u001b[0m \u001b[0;34m=\u001b[0m \u001b[0mtweepy\u001b[0m\u001b[0;34m.\u001b[0m\u001b[0mOAuthHandler\u001b[0m\u001b[0;34m(\u001b[0m\u001b[0mconsumer_key\u001b[0m\u001b[0;34m,\u001b[0m \u001b[0mconsumer_secret\u001b[0m\u001b[0;34m)\u001b[0m\u001b[0;34m\u001b[0m\u001b[0m\n\u001b[0;32m----> 4\u001b[0;31m \u001b[0mtoken\u001b[0m \u001b[0;34m=\u001b[0m \u001b[0msession\u001b[0m\u001b[0;34m.\u001b[0m\u001b[0mget\u001b[0m\u001b[0;34m(\u001b[0m\u001b[0;34m'request_token'\u001b[0m\u001b[0;34m)\u001b[0m\u001b[0;34m\u001b[0m\u001b[0m\n\u001b[0m\u001b[1;32m      5\u001b[0m \u001b[0msession\u001b[0m\u001b[0;34m.\u001b[0m\u001b[0mdelete\u001b[0m\u001b[0;34m(\u001b[0m\u001b[0;34m'request_token'\u001b[0m\u001b[0;34m)\u001b[0m\u001b[0;34m\u001b[0m\u001b[0m\n\u001b[1;32m      6\u001b[0m \u001b[0mauth\u001b[0m\u001b[0;34m.\u001b[0m\u001b[0mrequest_token\u001b[0m \u001b[0;34m=\u001b[0m \u001b[0mtoken\u001b[0m\u001b[0;34m\u001b[0m\u001b[0m\n",
      "\u001b[0;32m/anaconda3/lib/python3.6/site-packages/werkzeug/local.py\u001b[0m in \u001b[0;36m__getattr__\u001b[0;34m(self, name)\u001b[0m\n\u001b[1;32m    345\u001b[0m         \u001b[0;32mif\u001b[0m \u001b[0mname\u001b[0m \u001b[0;34m==\u001b[0m \u001b[0;34m'__members__'\u001b[0m\u001b[0;34m:\u001b[0m\u001b[0;34m\u001b[0m\u001b[0m\n\u001b[1;32m    346\u001b[0m             \u001b[0;32mreturn\u001b[0m \u001b[0mdir\u001b[0m\u001b[0;34m(\u001b[0m\u001b[0mself\u001b[0m\u001b[0;34m.\u001b[0m\u001b[0m_get_current_object\u001b[0m\u001b[0;34m(\u001b[0m\u001b[0;34m)\u001b[0m\u001b[0;34m)\u001b[0m\u001b[0;34m\u001b[0m\u001b[0m\n\u001b[0;32m--> 347\u001b[0;31m         \u001b[0;32mreturn\u001b[0m \u001b[0mgetattr\u001b[0m\u001b[0;34m(\u001b[0m\u001b[0mself\u001b[0m\u001b[0;34m.\u001b[0m\u001b[0m_get_current_object\u001b[0m\u001b[0;34m(\u001b[0m\u001b[0;34m)\u001b[0m\u001b[0;34m,\u001b[0m \u001b[0mname\u001b[0m\u001b[0;34m)\u001b[0m\u001b[0;34m\u001b[0m\u001b[0m\n\u001b[0m\u001b[1;32m    348\u001b[0m \u001b[0;34m\u001b[0m\u001b[0m\n\u001b[1;32m    349\u001b[0m     \u001b[0;32mdef\u001b[0m \u001b[0m__setitem__\u001b[0m\u001b[0;34m(\u001b[0m\u001b[0mself\u001b[0m\u001b[0;34m,\u001b[0m \u001b[0mkey\u001b[0m\u001b[0;34m,\u001b[0m \u001b[0mvalue\u001b[0m\u001b[0;34m)\u001b[0m\u001b[0;34m:\u001b[0m\u001b[0;34m\u001b[0m\u001b[0m\n",
      "\u001b[0;32m/anaconda3/lib/python3.6/site-packages/werkzeug/local.py\u001b[0m in \u001b[0;36m_get_current_object\u001b[0;34m(self)\u001b[0m\n\u001b[1;32m    304\u001b[0m         \"\"\"\n\u001b[1;32m    305\u001b[0m         \u001b[0;32mif\u001b[0m \u001b[0;32mnot\u001b[0m \u001b[0mhasattr\u001b[0m\u001b[0;34m(\u001b[0m\u001b[0mself\u001b[0m\u001b[0;34m.\u001b[0m\u001b[0m__local\u001b[0m\u001b[0;34m,\u001b[0m \u001b[0;34m'__release_local__'\u001b[0m\u001b[0;34m)\u001b[0m\u001b[0;34m:\u001b[0m\u001b[0;34m\u001b[0m\u001b[0m\n\u001b[0;32m--> 306\u001b[0;31m             \u001b[0;32mreturn\u001b[0m \u001b[0mself\u001b[0m\u001b[0;34m.\u001b[0m\u001b[0m__local\u001b[0m\u001b[0;34m(\u001b[0m\u001b[0;34m)\u001b[0m\u001b[0;34m\u001b[0m\u001b[0m\n\u001b[0m\u001b[1;32m    307\u001b[0m         \u001b[0;32mtry\u001b[0m\u001b[0;34m:\u001b[0m\u001b[0;34m\u001b[0m\u001b[0m\n\u001b[1;32m    308\u001b[0m             \u001b[0;32mreturn\u001b[0m \u001b[0mgetattr\u001b[0m\u001b[0;34m(\u001b[0m\u001b[0mself\u001b[0m\u001b[0;34m.\u001b[0m\u001b[0m__local\u001b[0m\u001b[0;34m,\u001b[0m \u001b[0mself\u001b[0m\u001b[0;34m.\u001b[0m\u001b[0m__name__\u001b[0m\u001b[0;34m)\u001b[0m\u001b[0;34m\u001b[0m\u001b[0m\n",
      "\u001b[0;32m/anaconda3/lib/python3.6/site-packages/flask/globals.py\u001b[0m in \u001b[0;36m_lookup_req_object\u001b[0;34m(name)\u001b[0m\n\u001b[1;32m     35\u001b[0m     \u001b[0mtop\u001b[0m \u001b[0;34m=\u001b[0m \u001b[0m_request_ctx_stack\u001b[0m\u001b[0;34m.\u001b[0m\u001b[0mtop\u001b[0m\u001b[0;34m\u001b[0m\u001b[0m\n\u001b[1;32m     36\u001b[0m     \u001b[0;32mif\u001b[0m \u001b[0mtop\u001b[0m \u001b[0;32mis\u001b[0m \u001b[0;32mNone\u001b[0m\u001b[0;34m:\u001b[0m\u001b[0;34m\u001b[0m\u001b[0m\n\u001b[0;32m---> 37\u001b[0;31m         \u001b[0;32mraise\u001b[0m \u001b[0mRuntimeError\u001b[0m\u001b[0;34m(\u001b[0m\u001b[0m_request_ctx_err_msg\u001b[0m\u001b[0;34m)\u001b[0m\u001b[0;34m\u001b[0m\u001b[0m\n\u001b[0m\u001b[1;32m     38\u001b[0m     \u001b[0;32mreturn\u001b[0m \u001b[0mgetattr\u001b[0m\u001b[0;34m(\u001b[0m\u001b[0mtop\u001b[0m\u001b[0;34m,\u001b[0m \u001b[0mname\u001b[0m\u001b[0;34m)\u001b[0m\u001b[0;34m\u001b[0m\u001b[0m\n\u001b[1;32m     39\u001b[0m \u001b[0;34m\u001b[0m\u001b[0m\n",
      "\u001b[0;31mRuntimeError\u001b[0m: Working outside of request context.\n\nThis typically means that you attempted to use functionality that needed\nan active HTTP request.  Consult the documentation on testing for\ninformation about how to avoid this problem."
     ]
    }
   ],
   "source": [
    "# Let's say this is a web app, so we need to re-build the auth handler\n",
    "# first...\n",
    "auth = tweepy.OAuthHandler(consumer_key, consumer_secret)\n",
    "token = session.get('request_token')\n",
    "session.delete('request_token')\n",
    "auth.request_token = token\n",
    "\n",
    "try:\n",
    "    auth.get_access_token(verifier)\n",
    "except tweepy.TweepError:\n",
    "    print('Error! Failed to get access token.')"
   ]
  },
  {
   "cell_type": "code",
   "execution_count": 343,
   "metadata": {},
   "outputs": [
    {
     "name": "stdout",
     "output_type": "stream",
     "text": [
      "https://api.twitter.com/oauth/authorize?oauth_token=D-4z9gAAAAAA6PEIAAABZS8XqgE\n"
     ]
    }
   ],
   "source": [
    "print(redirect_url)"
   ]
  },
  {
   "cell_type": "code",
   "execution_count": 344,
   "metadata": {
    "collapsed": true
   },
   "outputs": [],
   "source": [
    "api = tweepy.API(auth)"
   ]
  },
  {
   "cell_type": "code",
   "execution_count": 345,
   "metadata": {},
   "outputs": [
    {
     "data": {
      "text/plain": [
       "<tweepy.api.API at 0x115891390>"
      ]
     },
     "execution_count": 345,
     "metadata": {},
     "output_type": "execute_result"
    }
   ],
   "source": [
    "api"
   ]
  },
  {
   "cell_type": "code",
   "execution_count": 350,
   "metadata": {},
   "outputs": [
    {
     "ename": "TweepError",
     "evalue": "Twitter error response: status code = 403",
     "output_type": "error",
     "traceback": [
      "\u001b[0;31m---------------------------------------------------------------------------\u001b[0m",
      "\u001b[0;31mTweepError\u001b[0m                                Traceback (most recent call last)",
      "\u001b[0;32m<ipython-input-350-b205a312a18b>\u001b[0m in \u001b[0;36m<module>\u001b[0;34m()\u001b[0m\n\u001b[0;32m----> 1\u001b[0;31m \u001b[0mapi\u001b[0m\u001b[0;34m.\u001b[0m\u001b[0mupdate_status\u001b[0m\u001b[0;34m(\u001b[0m\u001b[0;34m'tweepy + oauth!'\u001b[0m\u001b[0;34m)\u001b[0m\u001b[0;34m\u001b[0m\u001b[0m\n\u001b[0m",
      "\u001b[0;32m/anaconda3/lib/python3.6/site-packages/tweepy/api.py\u001b[0m in \u001b[0;36mupdate_status\u001b[0;34m(self, media_ids, *args, **kwargs)\u001b[0m\n\u001b[1;32m    191\u001b[0m             \u001b[0mallowed_param\u001b[0m\u001b[0;34m=\u001b[0m\u001b[0;34m[\u001b[0m\u001b[0;34m'status'\u001b[0m\u001b[0;34m,\u001b[0m \u001b[0;34m'in_reply_to_status_id'\u001b[0m\u001b[0;34m,\u001b[0m \u001b[0;34m'lat'\u001b[0m\u001b[0;34m,\u001b[0m \u001b[0;34m'long'\u001b[0m\u001b[0;34m,\u001b[0m \u001b[0;34m'source'\u001b[0m\u001b[0;34m,\u001b[0m \u001b[0;34m'place_id'\u001b[0m\u001b[0;34m,\u001b[0m \u001b[0;34m'display_coordinates'\u001b[0m\u001b[0;34m]\u001b[0m\u001b[0;34m,\u001b[0m\u001b[0;34m\u001b[0m\u001b[0m\n\u001b[1;32m    192\u001b[0m             \u001b[0mrequire_auth\u001b[0m\u001b[0;34m=\u001b[0m\u001b[0;32mTrue\u001b[0m\u001b[0;34m\u001b[0m\u001b[0m\n\u001b[0;32m--> 193\u001b[0;31m         )(post_data=post_data, *args, **kwargs)\n\u001b[0m\u001b[1;32m    194\u001b[0m \u001b[0;34m\u001b[0m\u001b[0m\n\u001b[1;32m    195\u001b[0m     \u001b[0;32mdef\u001b[0m \u001b[0mmedia_upload\u001b[0m\u001b[0;34m(\u001b[0m\u001b[0mself\u001b[0m\u001b[0;34m,\u001b[0m \u001b[0mfilename\u001b[0m\u001b[0;34m,\u001b[0m \u001b[0;34m*\u001b[0m\u001b[0margs\u001b[0m\u001b[0;34m,\u001b[0m \u001b[0;34m**\u001b[0m\u001b[0mkwargs\u001b[0m\u001b[0;34m)\u001b[0m\u001b[0;34m:\u001b[0m\u001b[0;34m\u001b[0m\u001b[0m\n",
      "\u001b[0;32m/anaconda3/lib/python3.6/site-packages/tweepy/binder.py\u001b[0m in \u001b[0;36m_call\u001b[0;34m(*args, **kwargs)\u001b[0m\n\u001b[1;32m    237\u001b[0m             \u001b[0;32mreturn\u001b[0m \u001b[0mmethod\u001b[0m\u001b[0;34m\u001b[0m\u001b[0m\n\u001b[1;32m    238\u001b[0m         \u001b[0;32melse\u001b[0m\u001b[0;34m:\u001b[0m\u001b[0;34m\u001b[0m\u001b[0m\n\u001b[0;32m--> 239\u001b[0;31m             \u001b[0;32mreturn\u001b[0m \u001b[0mmethod\u001b[0m\u001b[0;34m.\u001b[0m\u001b[0mexecute\u001b[0m\u001b[0;34m(\u001b[0m\u001b[0;34m)\u001b[0m\u001b[0;34m\u001b[0m\u001b[0m\n\u001b[0m\u001b[1;32m    240\u001b[0m \u001b[0;34m\u001b[0m\u001b[0m\n\u001b[1;32m    241\u001b[0m     \u001b[0;31m# Set pagination mode\u001b[0m\u001b[0;34m\u001b[0m\u001b[0;34m\u001b[0m\u001b[0m\n",
      "\u001b[0;32m/anaconda3/lib/python3.6/site-packages/tweepy/binder.py\u001b[0m in \u001b[0;36mexecute\u001b[0;34m(self)\u001b[0m\n\u001b[1;32m    221\u001b[0m                 \u001b[0;32mexcept\u001b[0m \u001b[0mException\u001b[0m\u001b[0;34m:\u001b[0m\u001b[0;34m\u001b[0m\u001b[0m\n\u001b[1;32m    222\u001b[0m                     \u001b[0merror_msg\u001b[0m \u001b[0;34m=\u001b[0m \u001b[0;34m\"Twitter error response: status code = %s\"\u001b[0m \u001b[0;34m%\u001b[0m \u001b[0mresp\u001b[0m\u001b[0;34m.\u001b[0m\u001b[0mstatus_code\u001b[0m\u001b[0;34m\u001b[0m\u001b[0m\n\u001b[0;32m--> 223\u001b[0;31m                 \u001b[0;32mraise\u001b[0m \u001b[0mTweepError\u001b[0m\u001b[0;34m(\u001b[0m\u001b[0merror_msg\u001b[0m\u001b[0;34m,\u001b[0m \u001b[0mresp\u001b[0m\u001b[0;34m)\u001b[0m\u001b[0;34m\u001b[0m\u001b[0m\n\u001b[0m\u001b[1;32m    224\u001b[0m \u001b[0;34m\u001b[0m\u001b[0m\n\u001b[1;32m    225\u001b[0m             \u001b[0;31m# Parse the response payload\u001b[0m\u001b[0;34m\u001b[0m\u001b[0;34m\u001b[0m\u001b[0m\n",
      "\u001b[0;31mTweepError\u001b[0m: Twitter error response: status code = 403"
     ]
    }
   ],
   "source": [
    "api.update_status('tweepy + oauth!')"
   ]
  },
  {
   "cell_type": "code",
   "execution_count": null,
   "metadata": {
    "collapsed": true
   },
   "outputs": [],
   "source": []
  }
 ],
 "metadata": {
  "kernelspec": {
   "display_name": "Python [conda env:anaconda3]",
   "language": "python",
   "name": "conda-env-anaconda3-py"
  },
  "language_info": {
   "codemirror_mode": {
    "name": "ipython",
    "version": 3
   },
   "file_extension": ".py",
   "mimetype": "text/x-python",
   "name": "python",
   "nbconvert_exporter": "python",
   "pygments_lexer": "ipython3",
   "version": "3.6.3"
  }
 },
 "nbformat": 4,
 "nbformat_minor": 2
}
